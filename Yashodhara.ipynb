{
 "cells": [
  {
   "cell_type": "markdown",
   "id": "e81fb92a",
   "metadata": {},
   "source": [
    "## My Notebook (Yashodhara)"
   ]
  },
  {
   "cell_type": "code",
   "execution_count": null,
   "id": "fc36d1f6",
   "metadata": {},
   "outputs": [],
   "source": []
  }
 ],
 "metadata": {
  "kernelspec": {
   "display_name": "Python",
   "language": "python",
   "name": "conda-env-python-py"
  },
  "language_info": {
   "codemirror_mode": {
    "name": "ipython",
    "version": 3
   },
   "file_extension": ".py",
   "mimetype": "text/x-python",
   "name": "python",
   "nbconvert_exporter": "python",
   "pygments_lexer": "ipython3",
   "version": "3.6.13"
  }
 },
 "nbformat": 4,
 "nbformat_minor": 5
}
